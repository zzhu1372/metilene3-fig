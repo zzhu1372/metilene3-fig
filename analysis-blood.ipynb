{
 "cells": [
  {
   "cell_type": "code",
   "execution_count": null,
   "id": "899a8fca-849a-4b0f-bcde-93e18a1f1ae3",
   "metadata": {},
   "outputs": [],
   "source": [
    "import os\n",
    "import pandas as pd\n",
    "import seaborn as sns\n",
    "import matplotlib.pyplot as plt\n",
    "import scipy.stats as st"
   ]
  },
  {
   "cell_type": "code",
   "execution_count": null,
   "id": "0e8e38c2-842f-4fd8-8d31-75c586dac327",
   "metadata": {},
   "outputs": [],
   "source": [
    "homer_path = ''\n",
    "# homer_path = 'export PATH=$PATH:/sc/projects/sci-kretzmer/chair/software/tools/homer/bin/;'\n",
    "env = ''\n",
    "# env = 'eval \"$(conda shell.bash hook)\";conda activate /sc/projects/sci-kretzmer/chair/software/conda/metilene3;export MPLBACKEND=qtagg;'"
   ]
  },
  {
   "cell_type": "code",
   "execution_count": null,
   "id": "308b50ce-c7e9-4872-97e0-be3152d1592d",
   "metadata": {},
   "outputs": [],
   "source": [
    "os.system(env+'python ../metilene3/metilene3.py \\\n",
    "    -i ./data/GSE186458_blood.input.tsv \\\n",
    "    -o ./Blood \\\n",
    "    -t 16 \\\n",
    "    -plot True\\\n",
    "')"
   ]
  },
  {
   "cell_type": "code",
   "execution_count": null,
   "id": "6287bc77-c8b9-42b9-860c-7fb3bf472a94",
   "metadata": {},
   "outputs": [],
   "source": [
    "rename_dict = {\n",
    "    'P2_2_3_3_3_3': 'Mono+Gran(hypo) vs B+NK+T+naiveT',\n",
    "    'N0_0_0_0_2_3': 'T vs naiveT(hypo)',\n",
    "}"
   ]
  },
  {
   "cell_type": "code",
   "execution_count": null,
   "id": "b74f5491-6e01-42ff-8aeb-a593d841151b",
   "metadata": {
    "scrolled": true
   },
   "outputs": [],
   "source": [
    "dmrs = pd.read_table('./Blood/DMRs.tsv').sort_values(['chr','start','stop'])\n",
    "    \n",
    "dmrs['strand'] = '+'\n",
    "dmrs['stop_1'] = dmrs['stop']+1\n",
    "\n",
    "path = './Blood/motif/'\n",
    "os.system('mkdir '+path)\n",
    "for i in ['P2|2|3|3|3|3', 'N0|0|0|0|2|3']:\n",
    "    dmrs.loc[(dmrs['meandiffabs']>=0.5)&(dmrs['DMTree'].fillna('').str.contains(i.replace('|','\\|')+','))][['chr','start','stop_1','strand']].\\\n",
    "        to_csv('./Blood/motif/'+i.replace('|','_')+'.bed', sep='\\t', header=False)\n",
    "    dmrs.loc[(dmrs['meandiffabs']>=0.5)&(~dmrs['DMTree'].fillna('').str.contains(i.replace('|','\\|')+','))][['chr','start','stop_1','strand']].\\\n",
    "        to_csv('./Blood/motif/'+i.replace('|','_')+'.anti.bed', sep='\\t', header=False)\n",
    "    \n",
    "    os.system(env+homer_path+'findMotifsGenome.pl ./Blood/motif/'+i.replace('|','_')+'.bed'+\\\n",
    "                  ' hg19'+\\\n",
    "                  ' ./Blood/motif/'+i.replace('|','_')+' -bits -size 250  -bg ./Blood/motif/'+i.replace('|','_')+'.anti.bed &')"
   ]
  }
 ],
 "metadata": {
  "kernelspec": {
   "display_name": "Python 3 (ipykernel)",
   "language": "python",
   "name": "python3"
  },
  "language_info": {
   "codemirror_mode": {
    "name": "ipython",
    "version": 3
   },
   "file_extension": ".py",
   "mimetype": "text/x-python",
   "name": "python",
   "nbconvert_exporter": "python",
   "pygments_lexer": "ipython3",
   "version": "3.10.0"
  }
 },
 "nbformat": 4,
 "nbformat_minor": 5
}
