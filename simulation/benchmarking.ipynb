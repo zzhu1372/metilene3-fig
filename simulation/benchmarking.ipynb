{
 "cells": [
  {
   "cell_type": "code",
   "execution_count": null,
   "id": "96e4a65b-c899-4b5b-ab24-2f31de1205d4",
   "metadata": {},
   "outputs": [],
   "source": [
    "import os\n",
    "import pandas as pd"
   ]
  },
  {
   "cell_type": "code",
   "execution_count": null,
   "id": "c5e4637c-8c4e-4ca7-83e8-a4f955bcc554",
   "metadata": {},
   "outputs": [],
   "source": [
    "wd = os.getcwd()\n",
    "metilene = os.getcwd()+'/../../metilene3/metilene3.py'\n",
    "wgbstools = 'wgbstools'\n",
    "# wgbstools = '/sc/projects/sci-kretzmer/chair/software/tools/wgbs_tools/wgbstools'\n",
    "smart = 'SMART'"
   ]
  },
  {
   "cell_type": "code",
   "execution_count": null,
   "id": "8c5f57e8-87df-408d-acd5-70b26b5ac3ee",
   "metadata": {},
   "outputs": [],
   "source": [
    "env_metilene = ''\n",
    "env_smart = ''\n",
    "# env_metilene = 'eval \"$(conda shell.bash hook)\";conda activate /sc/projects/sci-kretzmer/chair/software/conda/metilene3;export MPLBACKEND=qtagg;'\n",
    "# env_smart = 'eval \"$(conda shell.bash hook)\";conda activate smart2;'"
   ]
  },
  {
   "cell_type": "code",
   "execution_count": null,
   "id": "8555d55e-03ca-431b-8ac6-d7c9f81e2361",
   "metadata": {},
   "outputs": [],
   "source": [
    "os.system(wgbstools+' --version')\n",
    "os.system(env_smart + smart+' --version')\n",
    "os.system(env_metilene + metilene+' --version')"
   ]
  },
  {
   "cell_type": "code",
   "execution_count": null,
   "id": "88507ddd-747e-4136-9f43-8be2b5e07356",
   "metadata": {},
   "outputs": [],
   "source": [
    "def run_all(ab):\n",
    "    indir = wd+'/data/'+''.join(ab.split('_')[:2])\n",
    "    outdir = wd+'/data/output-'+ab\n",
    "    \n",
    "    try:\n",
    "        os.mkdir(outdir)\n",
    "    except:\n",
    "        pass\n",
    "    \n",
    "    mxqsh = outdir+\"/mxq.sh\"\n",
    "    \n",
    "    with open(mxqsh,'w') as fn:\n",
    "        fn.write(\"cd \"+outdir+\";\\n\")\n",
    "        for i in [0]:\n",
    "            for c in ['10',]:\n",
    "                fn.write(\"mkdir rep\"+str(i)+'.c'+c+\";cd rep\"+str(i)+'.c'+c+\";\\n\")\n",
    "                fn.write('/usr/bin/time -v -o timeNmem.wgbstools_seg '+wgbstools+' segment --betas '+indir+'/*.wgbstools.beta -@ '+c+' -r chr10 -o ./blocks.small.bed\\n')\n",
    "                fn.write('/usr/bin/time -v -o timeNmem.wgbstools_dmr '+wgbstools+' find_markers -@ '+c+' --blocks_path '+\\\n",
    "                          './blocks.small.bed --groups_file '+\\\n",
    "                          ''+indir+'/groups.wgbstools.csv --betas '+\\\n",
    "                          ''+indir+'/*.wgbstools.beta -o ./wgbstools \\n')\n",
    "                \n",
    "                fn.write(env_metilene+'/usr/bin/time -v -o timeNmem.metilene_sup python '+metilene+' \\\n",
    "                        -i '+indir+'/metilene.beta_'+ab+'.tsv \\\n",
    "                        -g '+indir+'/groups.metilene.tsv \\\n",
    "                        -o ./metilene_sup \\\n",
    "                        -t '+c+'\\n')\n",
    "    \n",
    "                fn.write(env_smart+'/usr/bin/time -v -o timeNmem.smart '+smart+\" \"+indir+\"/smart.beta_\"+ab+\".tsv \\\n",
    "                        -t DeNovoDMR \\\n",
    "                        -o ./smart \\n\")\n",
    "    \n",
    "    os.system(\"chmod +x \"+mxqsh)\n",
    "    os.system(\"bash \"+mxqsh)"
   ]
  },
  {
   "cell_type": "code",
   "execution_count": null,
   "id": "e24046bd-6364-4323-892c-eaa902c5064c",
   "metadata": {},
   "outputs": [],
   "source": [
    "ab = '40_3_22_22'\n",
    "run_all(ab)"
   ]
  },
  {
   "cell_type": "code",
   "execution_count": null,
   "id": "e4315317-7192-4472-846b-d8dc97c91d1c",
   "metadata": {},
   "outputs": [],
   "source": [
    "ab = '15_5_10_10'\n",
    "run_all(ab)"
   ]
  },
  {
   "cell_type": "code",
   "execution_count": null,
   "id": "47302107-39a6-4a45-8252-7cb6cc9cac77",
   "metadata": {},
   "outputs": [],
   "source": [
    "ab = '40_3_22_22'\n",
    "\n",
    "indir = wd+'/data/'+''.join(ab.split('_')[:2])\n",
    "outdir = wd+'/data/output-'+ab\n",
    "        \n",
    "os.system(env_metilene+'/usr/bin/time -v -o '+outdir+'/timeNmem.metilene_unsup python '+metilene+' \\\n",
    "                        -i '+indir+'/metilene.beta_'+ab+'.tsv \\\n",
    "                        -w 10 \\\n",
    "                        -o '+outdir+'/metilene_unsup \\\n",
    "                        -t 16 -plot True -wsup False\\n')"
   ]
  },
  {
   "cell_type": "code",
   "execution_count": null,
   "id": "afb29881-133f-4010-8b00-6352949358ff",
   "metadata": {},
   "outputs": [],
   "source": [
    "ab = '15_5_10_10'\n",
    "\n",
    "indir = wd+'/data/'+''.join(ab.split('_')[:2])\n",
    "outdir = wd+'/data/output-'+ab\n",
    "        \n",
    "os.system(env_metilene+'/usr/bin/time -v -o '+outdir+'/timeNmem.metilene_unsup python '+metilene+' \\\n",
    "                        -i '+indir+'/metilene.beta_'+ab+'.tsv \\\n",
    "                        -w 2 \\\n",
    "                        -o '+outdir+'/metilene_unsup \\\n",
    "                        -t 16 -plot True -wsup False\\n')"
   ]
  }
 ],
 "metadata": {
  "kernelspec": {
   "display_name": "Python 3 (ipykernel)",
   "language": "python",
   "name": "python3"
  },
  "language_info": {
   "codemirror_mode": {
    "name": "ipython",
    "version": 3
   },
   "file_extension": ".py",
   "mimetype": "text/x-python",
   "name": "python",
   "nbconvert_exporter": "python",
   "pygments_lexer": "ipython3",
   "version": "3.10.0"
  }
 },
 "nbformat": 4,
 "nbformat_minor": 5
}
