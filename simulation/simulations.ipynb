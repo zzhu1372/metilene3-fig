{
 "cells": [
  {
   "cell_type": "code",
   "execution_count": 1,
   "id": "6a28d082",
   "metadata": {},
   "outputs": [],
   "source": [
    "import os\n",
    "import pandas as pd"
   ]
  },
  {
   "cell_type": "code",
   "execution_count": 2,
   "id": "c1e8fa14-fb43-43d3-9438-39517ae2864e",
   "metadata": {},
   "outputs": [],
   "source": [
    "wd = os.getcwd()\n",
    "wgbstools = '/sc/projects/sci-kretzmer/chair/software/tools/wgbs_tools/wgbstools'"
   ]
  },
  {
   "cell_type": "code",
   "execution_count": 3,
   "id": "9b63424d-3860-449a-8299-7a710c447f8d",
   "metadata": {},
   "outputs": [],
   "source": [
    "def beta_simulate(bgab, abab):\n",
    "    try:\n",
    "        os.mkdir(wd+'/data')\n",
    "    except:\n",
    "        pass\n",
    "    \n",
    "    try:\n",
    "        os.mkdir(wd+'/data/'+bgab.replace(' ',''))\n",
    "    except:\n",
    "        pass\n",
    "    \n",
    "    mxqsh = wd+\"/data/bg_\"+bgab.replace(' ','')+\"_mxq.sh\"\n",
    "    \n",
    "    with open(mxqsh,'w') as fn:\n",
    "        for i in range(50):\n",
    "            fn.write('Rscript '+wd+'/simulate_background.R '+bgab+' '+\\\n",
    "                        wd+'/chromatin_annotation_chr10.txt '+str(i)+' > '+\\\n",
    "                        wd+'/data/'+bgab.replace(' ','')+'/sample_'+str(i)+'.txt \\n')\n",
    "    \n",
    "    os.system('chmod 700 '+mxqsh+'; bash '+mxqsh)"
   ]
  },
  {
   "cell_type": "code",
   "execution_count": 4,
   "id": "c8c6e943-569b-4e3b-8865-cc3cc48d54ad",
   "metadata": {},
   "outputs": [],
   "source": [
    "def dmr_simulate(bgab, abab):\n",
    "    os.system('Rscript '+wd+'/simulate_DMRs_WGBS_multi.R '+\\\n",
    "                        abab+' '+wd+'/data/'+bgab.replace(' ','')+' '+wd+'/data/'+bgab.replace(' ','')+' ')\n",
    "    \n",
    "    met = pd.read_table(wd+'/data/'+bgab.replace(' ','')+'/metilene.beta_'+abab.replace(' ','_')+'.tsv')\n",
    "    met['End'] = met['pos']+1\n",
    "    met = met[['chr','pos','End']+sorted(met.columns[met.columns.str.contains('_')])]\n",
    "    newids = []\n",
    "    j = 0\n",
    "    g = '0'\n",
    "    for i in sorted(met.columns[met.columns.str.contains('_')]):\n",
    "        if i.split('_')[0]==g:\n",
    "            j+=1\n",
    "        else:\n",
    "            g = i.split('_')[0]\n",
    "            j=1\n",
    "        newids.append('G'+i.split('_')[0]+'_'+str(j))\n",
    "    \n",
    "    met.columns = ['Chrome','Start','End']+newids\n",
    "    met.to_csv(wd+'/data/'+bgab.replace(' ','')+'/smart.beta_'+abab.replace(' ','_')+'.tsv', sep='\\t', index=False)\n",
    "    \n",
    "    indir = wd+'/data/'+bgab.replace(' ','')\n",
    "    s = pd.DataFrame(os.listdir(indir))\n",
    "    s = s.loc[s[0].str.contains('wgbstools.bed')]\n",
    "    s[0] = s[0].apply(lambda x:x.replace('.bed',''))\n",
    "    s[1] = s[0].apply(lambda x:'G'+x.split('_')[0])\n",
    "    s.columns = ['name','group']\n",
    "    s.to_csv(indir+'/groups.wgbstools.csv',index=False)\n",
    "    \n",
    "    os.system('cd '+indir+';'+wgbstools+' bed2beta '+indir+'/*.wgbstools.bed')\n",
    "    \n",
    "    s = pd.DataFrame(os.listdir(indir))\n",
    "    s = s.loc[s[0].str.contains('wgbstools.bed')]\n",
    "    s[0] = s[0].apply(lambda x:x.split('.')[0])\n",
    "    s[1] = s[0].apply(lambda x:'G'+x.split('_')[0])\n",
    "    s.columns = ['ID','Group']\n",
    "    s.to_csv(indir+'/groups.metilene.tsv',index=False, sep='\\t')\n",
    "    \n",
    "    return pd.crosstab(pd.read_table(wd+'/data/'+bgab.replace(' ','')+'/DMR_nooverlapped_beta_'+abab.replace(' ','_')+'.bed',header=None)[6].apply(lambda x:x[:5]),\n",
    "    pd.read_table(wd+'/data/'+bgab.replace(' ','')+'/DMR_nooverlapped_beta_'+abab.replace(' ','_')+'.bed',header=None)[7], margin=True)"
   ]
  },
  {
   "cell_type": "code",
   "execution_count": null,
   "id": "7c2af917-cb8b-4307-bead-8d9daadfc004",
   "metadata": {},
   "outputs": [],
   "source": [
    "bgab = '40 3'\n",
    "abab = bgab+' 22 22'\n",
    "beta_simulate(bgab, abab)"
   ]
  },
  {
   "cell_type": "code",
   "execution_count": null,
   "id": "64f0b4ea-a69e-4f2b-8608-da9ed1a3e46e",
   "metadata": {},
   "outputs": [],
   "source": [
    "bgab = '15 5'\n",
    "abab = bgab+' 10 10'\n",
    "beta_simulate(bgab, abab)"
   ]
  },
  {
   "cell_type": "code",
   "execution_count": null,
   "id": "c6377fbb-5d14-43be-b782-d4b1f2a393d9",
   "metadata": {
    "scrolled": true
   },
   "outputs": [],
   "source": [
    "bgab = '40 3'\n",
    "abab = bgab+' 22 22'\n",
    "dmr_simulate(bgab, abab)"
   ]
  },
  {
   "cell_type": "code",
   "execution_count": null,
   "id": "0899d05f-b41f-4a4f-ad76-be2c23aca838",
   "metadata": {},
   "outputs": [],
   "source": [
    "bgab = '15 5'\n",
    "abab = bgab+' 10 10'\n",
    "dmr_simulate(bgab, abab)"
   ]
  }
 ],
 "metadata": {
  "kernelspec": {
   "display_name": "Python 3 (ipykernel)",
   "language": "python",
   "name": "python3"
  },
  "language_info": {
   "codemirror_mode": {
    "name": "ipython",
    "version": 3
   },
   "file_extension": ".py",
   "mimetype": "text/x-python",
   "name": "python",
   "nbconvert_exporter": "python",
   "pygments_lexer": "ipython3",
   "version": "3.10.0"
  }
 },
 "nbformat": 4,
 "nbformat_minor": 5
}
