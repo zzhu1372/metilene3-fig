{
 "cells": [
  {
   "cell_type": "code",
   "execution_count": null,
   "id": "899a8fca-849a-4b0f-bcde-93e18a1f1ae3",
   "metadata": {},
   "outputs": [],
   "source": [
    "import os\n",
    "import pandas as pd\n",
    "import seaborn as sns\n",
    "import matplotlib.pyplot as plt\n",
    "import scipy.stats as st\n",
    "import numpy as np\n",
    "import gseapy as gp"
   ]
  },
  {
   "cell_type": "code",
   "execution_count": null,
   "id": "0e8e38c2-842f-4fd8-8d31-75c586dac327",
   "metadata": {},
   "outputs": [],
   "source": [
    "homer_path = ''\n",
    "# homer_path = 'export PATH=$PATH:/sc/projects/sci-kretzmer/chair/software/tools/homer/bin/;'\n",
    "env = ''\n",
    "# env = 'eval \"$(conda shell.bash hook)\";conda activate /sc/projects/sci-kretzmer/chair/software/conda/metilene3;export MPLBACKEND=qtagg;'"
   ]
  },
  {
   "cell_type": "code",
   "execution_count": null,
   "id": "308b50ce-c7e9-4872-97e0-be3152d1592d",
   "metadata": {},
   "outputs": [],
   "source": [
    "os.system(env+'python ../metilene3/metilene3.py \\\n",
    "    -i ./data/GSE121721_glioma.input.tsv \\\n",
    "    -o ./GBM \\\n",
    "    -t 16 \\\n",
    "    -n 4 \\\n",
    "    -plot True -anno hg19\\\n",
    "')"
   ]
  },
  {
   "cell_type": "code",
   "execution_count": null,
   "id": "d1fb14c5-bdd3-4d89-9ca1-1d7e55d2e805",
   "metadata": {},
   "outputs": [],
   "source": [
    "dmrmean_m_rename = pd.read_table('./GBM/heatmap.tsv', index_col=0)\n",
    "sinfo = dmrmean_m_rename[[]]\n",
    "sinfo['group'] = [i.split(' ')[0] for i in dmrmean_m_rename.index]\n",
    "sinfo['subtype'] = [i.split('=')[1].split('_')[0] for i in dmrmean_m_rename.index]\n",
    "sinfo.index = [i.split('_')[-1] for i in sinfo.index]\n",
    "sinfo"
   ]
  },
  {
   "cell_type": "code",
   "execution_count": null,
   "id": "4749f15b-e39c-40fe-bc65-1bbe6495ee9a",
   "metadata": {},
   "outputs": [],
   "source": [
    "dmrs = pd.read_table('./GBM/DMRs.tsv')\n",
    "dmrs"
   ]
  },
  {
   "cell_type": "markdown",
   "id": "b6c2bcf0-31ba-4830-8952-b1e22998ec40",
   "metadata": {},
   "source": [
    "RNA"
   ]
  },
  {
   "cell_type": "code",
   "execution_count": null,
   "id": "e3320616-0096-4215-b0f1-2e4010750151",
   "metadata": {},
   "outputs": [],
   "source": [
    "bed = pd.read_table('./data/geo/GSE121720_RAW/gencode.v19.annotation.onlygenes.bed', header=None)\n",
    "bed.index = bed[0]+'.'+bed[1].astype(str)+'.'+bed[2].astype(str)\n",
    "\n",
    "raw = pd.read_table('./data/geo/raw.genes.npz')\n",
    "raw.index = raw[\"#'chr'\"]+'.'+raw[\"'start'\"].astype(str)+'.'+raw[\"'end'\"].astype(str)\n",
    "\n",
    "raw = pd.DataFrame(raw.drop(columns=[\"#'chr'\",\"'start'\",\"'end'\"]))\n",
    "raw.columns = [i.split('_')[1] for i in raw.columns]\n",
    "raw.index = raw.index.map(bed[3].to_dict())\n",
    "raw.index.name = 'ensgene'\n",
    "raw = raw.loc[~raw.index.duplicated()]\n",
    "\n",
    "normal = {\n",
    "    'frontal':'NBr1',\n",
    "    'occipital':'NBr2',\n",
    "    'parietal':'NBr3',\n",
    "    'temporal':'NBr4'\n",
    "}\n",
    "newidx = list(raw.columns)\n",
    "for i in range(len(newidx)):\n",
    "    if newidx[i] in normal.keys():\n",
    "        newidx[i] = normal[newidx[i]]\n",
    "raw.columns = newidx\n",
    "raw = raw.loc[raw.index[(raw.T>1).mean()>0.5]]\n",
    "raw"
   ]
  },
  {
   "cell_type": "code",
   "execution_count": null,
   "id": "c2ac94c7-ac86-4eba-b5a0-ec04fa6f53dc",
   "metadata": {},
   "outputs": [],
   "source": [
    "tpm = pd.read_table('./data/geo/GSE121720_RNAseq_expression_matrix_TPMs.txt.gz').T\n",
    "tpm = (tpm+0.1).applymap(np.log10)\n",
    "normal = {\n",
    "    'frontal':'NBr1',\n",
    "    'occipital':'NBr2',\n",
    "    'parietal':'NBr3',\n",
    "    'temporal':'NBr4'\n",
    "}\n",
    "newidx = list(tpm.index)\n",
    "for i in range(len(newidx)):\n",
    "    if newidx[i] in normal.keys():\n",
    "        newidx[i] = normal[newidx[i]]\n",
    "tpm.index = newidx\n",
    "tpm = tpm.loc[raw.columns]\n",
    "tpm"
   ]
  },
  {
   "cell_type": "code",
   "execution_count": null,
   "id": "6e32db17-617e-4586-91f9-45700a4135c4",
   "metadata": {},
   "outputs": [],
   "source": [
    "def rundeseq(Y0,Y1):\n",
    "    i = ''.join(Y1)+'vs'+''.join(Y0)\n",
    "    selected = sinfo.loc[sinfo['group'].isin(Y0+Y1)]\n",
    "    selected['y'] = 1*(selected['group'].isin(Y0))\n",
    "    \n",
    "    raw[selected.index].astype(int).to_csv(\\\n",
    "        './GBM/deseq2_exp_'+i+'.csv')\n",
    "    selected[['y']].to_csv(\\\n",
    "        './GBM/deseq2_y_'+i+'.csv')\n",
    "    os.system('Rscript ./deseq2.r \\\n",
    "            ./GBM/deseq2_exp_'+i+'.csv \\\n",
    "            ./GBM/deseq2_y_'+i+'.csv \\\n",
    "            ./GBM/deseq2_out_'+i+'.csv')"
   ]
  },
  {
   "cell_type": "code",
   "execution_count": null,
   "id": "48793398-ccd1-4392-9c0b-608366f6ae3e",
   "metadata": {},
   "outputs": [],
   "source": [
    "gene_names = {}\n",
    "with open('./data/geo/Homo_sapiens.GRCh38.111.gtf', 'r') as gtf_file:\n",
    "    for line in gtf_file:\n",
    "        if line.startswith('#'):\n",
    "            continue\n",
    "        fields = line.strip().split('\\t')\n",
    "        if len(fields) < 9:\n",
    "            continue\n",
    "        attributes = fields[8]\n",
    "        attr_dict = {}\n",
    "        if attributes.find('gene_id')>-1 and attributes.find('gene_name')>-1 :\n",
    "            gene_names[attributes.split('gene_id \"')[1].split('\"')[0]] = \\\n",
    "                attributes.split('gene_name \"')[1].split('\"')[0]"
   ]
  },
  {
   "cell_type": "code",
   "execution_count": null,
   "id": "a268915e-d0c9-4866-8c84-a56067cbe89f",
   "metadata": {
    "scrolled": true
   },
   "outputs": [],
   "source": [
    "Y1 = ['G2']\n",
    "Y0 = ['G1']\n",
    "\n",
    "\n",
    "rundeseq(Y0,Y1)\n",
    "\n",
    "selected = sinfo.loc[sinfo['group'].isin(Y0+Y1)]\n",
    "selected['y'] = 1*(selected['group'].isin(Y1))\n",
    "\n",
    "i = ''.join(Y1)+'vs'+''.join(Y0)\n",
    "\n",
    "deseq2 = pd.read_csv('./GBM/deseq2_out_'+i+'.csv', index_col=0)\n",
    "deseq2['ENSG'] = deseq2.index \n",
    "deseq2.index = [j.split('.')[0] for j in deseq2.index]\n",
    "deseq2.index = deseq2.index.map(gene_names)\n",
    "deseq2 = deseq2.sort_values('pvalue')\n",
    "deseq2 = deseq2.loc[(~deseq2.index.isna())&(~deseq2.index.duplicated())].dropna()\n",
    "\n",
    "degsea = gp.prerank(rnk=deseq2['log2FoldChange'],\n",
    "                     gene_sets='./data/geo/h.all.v2023.2.Hs.symbols.gmt',\n",
    "                     threads=10, outdir=None, seed=1, \n",
    "                    )\n",
    "\n",
    "degsea.res2d['absNES'] = degsea.res2d['NES'].apply(abs)\n",
    "degsea.res2d.sort_values('absNES', ascending=False).head(10)"
   ]
  },
  {
   "cell_type": "code",
   "execution_count": null,
   "id": "947beb93-d637-4605-9302-dc55dc204b61",
   "metadata": {},
   "outputs": [],
   "source": [
    "i = 'P0|2|3|0'\n",
    "gs = sorted(set(dmrs.loc[(dmrs['DMTree'].str.contains(i.replace('|','\\|')))&\\\n",
    "                            (dmrs['meandiffabs']>0.1)]['SYMBOL'].dropna()))\n",
    "print(i,len(gs))\n",
    "dmgsea = gp.enrichr(gene_list=gs,\n",
    "                 gene_sets='./data/geo/h.all.v2023.2.Hs.symbols.gmt',\n",
    "                 outdir=None,\n",
    "                )"
   ]
  },
  {
   "cell_type": "code",
   "execution_count": null,
   "id": "b58189fd-feb7-45c7-be13-3a3904bc0d82",
   "metadata": {},
   "outputs": [],
   "source": [
    "dgsea = pd.merge(dmgsea.res2d, degsea.res2d, on='Term', how='outer').dropna()\n",
    "\n",
    "dgsea['combine_pvalues'] = dgsea.apply(lambda x:st.combine_pvalues([x['P-value'],x['NOM p-val']]).pvalue,axis=1)\n",
    "dgsea['combine_pvalues'] += dgsea.loc[dgsea['combine_pvalues']>0]['combine_pvalues'].min()*0.1\n",
    "\n",
    "plt.subplots(figsize=[8,4])\n",
    "ax = sns.scatterplot(x=dgsea['Odds Ratio'], y=dgsea['NES'],\\\n",
    "                     s=30-30*dgsea['combine_pvalues'].apply(np.log10), color='gray')\n",
    "ax.spines['top'].set_visible(False)\n",
    "ax.spines['right'].set_visible(False)\n",
    "\n",
    "print(st.spearmanr(dgsea['Odds Ratio'], dgsea['NES'], nan_policy='omit'))\n",
    "dgsea.loc[dgsea['combine_pvalues']<0.01].sort_values(['NES'])"
   ]
  }
 ],
 "metadata": {
  "kernelspec": {
   "display_name": "Python 3 (ipykernel)",
   "language": "python",
   "name": "python3"
  },
  "language_info": {
   "codemirror_mode": {
    "name": "ipython",
    "version": 3
   },
   "file_extension": ".py",
   "mimetype": "text/x-python",
   "name": "python",
   "nbconvert_exporter": "python",
   "pygments_lexer": "ipython3",
   "version": "3.10.0"
  }
 },
 "nbformat": 4,
 "nbformat_minor": 5
}
