{
 "cells": [
  {
   "cell_type": "code",
   "execution_count": null,
   "id": "899a8fca-849a-4b0f-bcde-93e18a1f1ae3",
   "metadata": {},
   "outputs": [],
   "source": [
    "import os\n",
    "import pandas as pd\n",
    "import seaborn as sns\n",
    "import matplotlib.pyplot as plt\n",
    "import scipy.stats as st\n",
    "import numpy as np\n",
    "from datatable import dt, f, by, g, join, sort, update, ifelse"
   ]
  },
  {
   "cell_type": "code",
   "execution_count": null,
   "id": "0e8e38c2-842f-4fd8-8d31-75c586dac327",
   "metadata": {},
   "outputs": [],
   "source": [
    "homer_path = ''\n",
    "# homer_path = 'export PATH=$PATH:/sc/projects/sci-kretzmer/chair/software/tools/homer/bin/;'\n",
    "env = ''\n",
    "# env = 'eval \"$(conda shell.bash hook)\";conda activate /sc/projects/sci-kretzmer/chair/software/conda/metilene3;export MPLBACKEND=qtagg;'"
   ]
  },
  {
   "cell_type": "code",
   "execution_count": null,
   "id": "308b50ce-c7e9-4872-97e0-be3152d1592d",
   "metadata": {
    "collapsed": true,
    "jupyter": {
     "outputs_hidden": true
    }
   },
   "outputs": [],
   "source": [
    "os.system(env+'python ../metilene3/metilene3.py \\\n",
    "    -i ./data/GSE222147_pdac.input.tsv \\\n",
    "    -o ./PDAC \\\n",
    "    -t 16 \\\n",
    "    -n 4 \\\n",
    "    -plot True -anno hg19\\\n",
    "')"
   ]
  },
  {
   "cell_type": "code",
   "execution_count": null,
   "id": "b74f5491-6e01-42ff-8aeb-a593d841151b",
   "metadata": {
    "scrolled": true
   },
   "outputs": [],
   "source": [
    "dmrs = pd.read_table('./PDAC/DMRs.tsv').sort_values(['chr','start','stop'])\n",
    "dmrs['strand'] = '+'\n",
    "dmrs['stop_1'] = dmrs['stop']+1\n",
    "\n",
    "path = './PDAC/motif/'\n",
    "os.system('mkdir '+path)\n",
    "for i in ['P2|3|3|3']:\n",
    "    dmrs.loc[(dmrs['meandiffabs']>=0.5)&(dmrs['DMTree'].fillna('').str.contains(i.replace('|','\\|')+','))][['chr','start','stop_1','strand']].\\\n",
    "        to_csv(path+i.replace('|','_')+'.bed', sep='\\t', header=False)\n",
    "    dmrs.loc[(dmrs['meandiffabs']>=0.5)&(~dmrs['DMTree'].fillna('').str.contains(i.replace('|','\\|')+','))][['chr','start','stop_1','strand']].\\\n",
    "        to_csv(path+i.replace('|','_')+'.anti.bed', sep='\\t', header=False)\n",
    "    os.system(env+homer_path+'findMotifsGenome.pl '+path+i.replace('|','_')+'.bed'+\\\n",
    "                  ' hg19'+\\\n",
    "                  ' '+path+i.replace('|','_')+' -bits -size 250  -bg '+path+i.replace('|','_')+'.anti.bed ')"
   ]
  },
  {
   "cell_type": "code",
   "execution_count": null,
   "id": "a61a255e-b5ac-4ab5-8022-16f4a3eeba96",
   "metadata": {},
   "outputs": [],
   "source": [
    "# PDAC-hypo DMRs\n",
    "dmrs.loc[(dmrs['meandiffabs']>=0.5)&(dmrs['DMTree'].fillna('').str.contains(\"P2|3|3|3\".replace('|','\\|')+','))]['sig.comparison'].value_counts()"
   ]
  },
  {
   "cell_type": "code",
   "execution_count": null,
   "id": "a836908f-db8e-4426-b55d-e244018b76f7",
   "metadata": {
    "scrolled": true
   },
   "outputs": [],
   "source": [
    "motif_id = {}\n",
    "\n",
    "os.system('mkdir ./PDAC/motif/find')\n",
    "\n",
    "for motif in os.listdir('./PDAC/motif/P2_3_3_3/knownResults'):\n",
    "    if motif.split('.')[-1]=='motif':\n",
    "        motif_id[motif] = pd.read_table('./PDAC/motif/P2_3_3_3/knownResults/'+motif,nrows=0).columns[1]\n",
    "\n",
    "        os.system(env+homer_path+'findMotifsGenome.pl ./PDAC/motif/P2_3_3_3.bed'+\\\n",
    "                  ' hg19'+\\\n",
    "                  ' ./PDAC/motif/find/'+motif+' \\\n",
    "                  -bits -size 250 \\\n",
    "                  -find  ./PDAC/motif/P2_3_3_3/knownResults/'+motif+' > \\\n",
    "                  ./PDAC/motif/find/'+motif+'.find.PDAC.tsv')\n",
    "        \n",
    "        os.system(env+homer_path+'findMotifsGenome.pl ./PDAC/motif/P2_3_3_3.anti.bed'+\\\n",
    "                  ' hg19'+\\\n",
    "                  ' ./PDAC/motif/find/'+motif+'-anti \\\n",
    "                  -bits -size 250 \\\n",
    "                  -find  ./PDAC/motif/P2_3_3_3/knownResults/'+motif+' > \\\n",
    "                  ./PDAC/motif/find/'+motif+'.find.PDAC.anti.tsv')\n",
    "        \n",
    "        print(motif,motif_id[motif])"
   ]
  },
  {
   "cell_type": "code",
   "execution_count": null,
   "id": "a010c5da-b0b8-42ff-9194-9a215ce7fbe9",
   "metadata": {},
   "outputs": [],
   "source": [
    "pdac_motifs = pd.read_table('./PDAC/motif/P2_3_3_3.bed', header=None)\n",
    "\n",
    "for i in motif_id.keys():\n",
    "    tmp = pd.read_table('./PDAC/motif/find/'+i+'.find.PDAC.tsv', index_col='PositionID')\n",
    "    pdac_motifs[motif_id[i]] = pdac_motifs[0].map(tmp['Offset'].to_dict())\n",
    "\n",
    "pdac_motifs"
   ]
  },
  {
   "cell_type": "code",
   "execution_count": null,
   "id": "ffa87851-88fe-4dea-b358-701d1c5b03ac",
   "metadata": {},
   "outputs": [],
   "source": [
    "pdac_anti_motifs = pd.read_table('./PDAC/motif/P2_3_3_3.anti.bed', header=None)\n",
    "\n",
    "for i in motif_id.keys():\n",
    "    tmp = pd.read_table('./PDAC/motif/find/'+i+'.find.PDAC.anti.tsv', index_col='PositionID')\n",
    "    pdac_anti_motifs[motif_id[i]] = pdac_anti_motifs[0].map(tmp['Offset'].to_dict())\n",
    "\n",
    "pdac_anti_motifs"
   ]
  },
  {
   "cell_type": "code",
   "execution_count": null,
   "id": "5d6299aa-a936-48d9-af7a-0d4b8e3fc81c",
   "metadata": {
    "scrolled": true
   },
   "outputs": [],
   "source": [
    "cls = sns.clustermap(pdac_motifs[motif_id.values()].isna().corr(),\\\n",
    "               vmin = -0.3, vmax = 0.3, center = 0, cmap='coolwarm', figsize=[20,20])\n",
    "sns.clustermap(pdac_anti_motifs[motif_id.values()].isna().corr(),\\\n",
    "               vmin = -0.3, vmax = 0.3, center = 0, cmap='coolwarm', figsize=[20,20],\\\n",
    "               col_linkage=cls.dendrogram_col.linkage, row_linkage=cls.dendrogram_row.linkage\n",
    "              )\n",
    "sns.clustermap(pdac_motifs[motif_id.values()].isna().corr()-pdac_anti_motifs[motif_id.values()].isna().corr(),\\\n",
    "               vmin = -0.3, vmax = 0.3, center = 0, cmap='coolwarm', figsize=[20,20], method='ward',\\\n",
    "               col_linkage=cls.dendrogram_col.linkage, row_linkage=cls.dendrogram_row.linkage\n",
    "              )"
   ]
  },
  {
   "cell_type": "code",
   "execution_count": null,
   "id": "72de44ca-66ea-4b11-b627-56f16ff3a315",
   "metadata": {
    "scrolled": true
   },
   "outputs": [],
   "source": [
    "dmrs = pd.read_table('./PDAC/DMRs.tsv')\n",
    "dmrs['strand'] = '+'\n",
    "dmrs['stop'] = dmrs['stop']+1\n",
    "dmrs.loc[dmrs['meandiffabs']>=0.5][['chr','start','stop','strand']].to_csv('./PDAC/motif/DMRs.high.bed', sep='\\t', header=False)\n",
    "dmrs.loc[dmrs['meandiffabs']>=0.5][['chr','start','stop','strand']]"
   ]
  },
  {
   "cell_type": "code",
   "execution_count": null,
   "id": "1caa764b-6bc3-497f-9a19-d4c5903f6d45",
   "metadata": {},
   "outputs": [],
   "source": [
    "motifs_toshow = {\n",
    "    'NFATC1':'./PDAC/motif/P2_3_3_3/knownResults/known6.motif',\\\n",
    "    'NFKB2':'./PDAC/motif/P2_3_3_3/knownResults/known3.motif'\\\n",
    "}"
   ]
  },
  {
   "cell_type": "code",
   "execution_count": null,
   "id": "253402f4-6ddc-4cf5-a3ac-7ed54f42c622",
   "metadata": {
    "scrolled": true
   },
   "outputs": [],
   "source": [
    "for i in motifs_toshow.keys():  \n",
    "    print(i, motif_id[motifs_toshow[i].split('/')[-1]])\n",
    "    os.system(env+homer_path+'findMotifsGenome.pl ./PDAC/motif/DMRs.high.bed'+\\\n",
    "                  ' hg19'+\\\n",
    "                  ' ./PDAC/motif/'+i+' \\\n",
    "                  -bits -size 250 \\\n",
    "                  -find '+motifs_toshow[i]+' > \\\n",
    "                  ./PDAC/motif/'+i+'.find.allhighDMRs.tsv')"
   ]
  },
  {
   "cell_type": "code",
   "execution_count": null,
   "id": "1ef9a280-df62-4b5a-a054-a0a9ea66a3df",
   "metadata": {
    "scrolled": true
   },
   "outputs": [],
   "source": [
    "allhighdmrs_motifs = {}\n",
    "\n",
    "for i in motifs_toshow.keys():\n",
    "    tmp = pd.read_table('./PDAC/motif/'+i+'.find.allhighDMRs.tsv', index_col='PositionID')\n",
    "    allhighdmrs_motifs[i+'-dmrs'] = dmrs.loc[dmrs.index.isin(set(tmp.index.astype(int)))]\n",
    "    allhighdmrs_motifs[i+'-dmrs']['DMRid'] = allhighdmrs_motifs[i+'-dmrs'].index\n",
    "    allhighdmrs_motifs[i+'-dmrs'][5] = allhighdmrs_motifs[i+'-dmrs']['DMRid'].map(tmp['Offset'].to_dict()).astype(int)\n",
    "    allhighdmrs_motifs[i+'-dmrs'][6] = ((allhighdmrs_motifs[i+'-dmrs']['start']+allhighdmrs_motifs[i+'-dmrs']['stop'])/2).astype(int)+allhighdmrs_motifs[i+'-dmrs'][5]\n",
    "    allhighdmrs_motifs[i+'-dmrs'][7] = allhighdmrs_motifs[i+'-dmrs'][6]+1\n",
    "    allhighdmrs_motifs[i+'-dmrs'][['chr',6,7]].to_csv('./PDAC/motif/'+i+'.find.allhighDMRs.emap.tsv',\n",
    "                                           sep='\\t', index=False,header=False)"
   ]
  },
  {
   "cell_type": "code",
   "execution_count": null,
   "id": "4a8ae527-4b68-43c6-82a6-e3d902466332",
   "metadata": {},
   "outputs": [],
   "source": [
    "tmp = pd.merge(allhighdmrs_motifs['NFATC1-dmrs'],allhighdmrs_motifs['NFKB2-dmrs'],on=['chr','start','stop'])[['chr','6_x','7_x','6_y','7_y']]\n",
    "tmp[6] = tmp[['6_x','7_x','6_y','7_y']].T.min()\n",
    "tmp[7] = tmp[['6_x','7_x','6_y','7_y']].T.max()\n",
    "tmp.to_csv('./PDAC/motif/NFKB2_NFATC1.find.allhighDMRs.emap.tsv',\n",
    "                                           sep='\\t', index=False,header=False)"
   ]
  },
  {
   "cell_type": "code",
   "execution_count": null,
   "id": "b585cff7-9b14-4490-bf7f-29061c2dfe12",
   "metadata": {},
   "outputs": [],
   "source": [
    "highdmrs = dmrs.loc[(dmrs['meandiffabs']>=0.5)]\n",
    "for i in ['NFATC1-dmrs','NFKB2-dmrs']:\n",
    "    highdmrs[i] = (\n",
    "        highdmrs['chr']+':'+highdmrs['start'].astype(str)\n",
    "    ).isin(\n",
    "        set(allhighdmrs_motifs[i]['chr']+':'+allhighdmrs_motifs[i]['start'].astype(str))\n",
    "    )\n",
    "\n",
    "print(st.fisher_exact(\n",
    "    pd.crosstab(highdmrs['DMTree'].fillna('').str.contains('P2\\|3\\|3\\|3'),\\\n",
    "    highdmrs['NFATC1-dmrs']&highdmrs['NFKB2-dmrs'])\n",
    "))\n",
    "pd.crosstab(highdmrs['DMTree'].fillna('').str.contains('P2\\|3\\|3\\|3'),\\\n",
    "highdmrs['NFATC1-dmrs']&highdmrs['NFKB2-dmrs'])"
   ]
  },
  {
   "cell_type": "code",
   "execution_count": null,
   "id": "de63c337-a7ee-4517-842e-4e1a655be95b",
   "metadata": {},
   "outputs": [],
   "source": [
    "i = 'NFATC1-dmrs'\n",
    "print(st.fisher_exact(\n",
    "    pd.crosstab(highdmrs['DMTree'].fillna('').str.contains('P2\\|3\\|3\\|3'),\\\n",
    "    highdmrs[i])\n",
    "))\n",
    "pd.crosstab(highdmrs['DMTree'].fillna('').str.contains('P2\\|3\\|3\\|3'),\\\n",
    "highdmrs[i]).sort_index(ascending=False).T.sort_index(ascending=False).T"
   ]
  },
  {
   "cell_type": "code",
   "execution_count": null,
   "id": "7cbb0e9d-0cc6-47ff-9c4b-9459a509322e",
   "metadata": {},
   "outputs": [],
   "source": [
    "i = 'NFKB2-dmrs'\n",
    "print(st.fisher_exact(\n",
    "    pd.crosstab(highdmrs['DMTree'].fillna('').str.contains('P2\\|3\\|3\\|3'),\\\n",
    "    highdmrs[i])\n",
    "))\n",
    "pd.crosstab(highdmrs['DMTree'].fillna('').str.contains('P2\\|3\\|3\\|3'),\\\n",
    "highdmrs[i]).sort_index(ascending=False).T.sort_index(ascending=False).T"
   ]
  },
  {
   "cell_type": "code",
   "execution_count": null,
   "id": "9167b04f-ac53-4b00-9ce8-a5bb9d79d3ac",
   "metadata": {},
   "outputs": [],
   "source": [
    "gepia2 = pd.read_table('./gepia2_paad_degs.txt', index_col=0, comment='#')\n",
    "gepia2.columns = ['transcript','PAAD','Normal','Log2FC','P-value']\n",
    "gepia2['DEcat'] = -1*(gepia2['Log2FC']<-1)+(gepia2['Log2FC']>1)\n",
    "gepia2['SYMBOL'] = gepia2.index\n",
    "gepia2"
   ]
  },
  {
   "cell_type": "code",
   "execution_count": null,
   "id": "91b19902-895a-4a57-9a67-0b756a770add",
   "metadata": {},
   "outputs": [],
   "source": [
    "venn2tab = highdmrs[['chr','start','stop','meandiffabs','SYMBOL','Hypo-groups','Int-groups','Hyper-groups','NFATC1-dmrs','NFKB2-dmrs']].sort_values(['chr','start'])\n",
    "for i in ['Hypo-groups','Int-groups','Hyper-groups']:\n",
    "    venn2tab[i] = venn2tab[i].str.replace('G0','PDAC')\n",
    "    venn2tab[i] = venn2tab[i].str.replace('G1','PanIN')\n",
    "    venn2tab[i] = venn2tab[i].str.replace('G2','Acinar')\n",
    "    venn2tab[i] = venn2tab[i].str.replace('G3','Duct')\n",
    "venn2tab"
   ]
  },
  {
   "cell_type": "code",
   "execution_count": null,
   "id": "95e13eab-3bdc-4d8d-b2a2-9398f9d58c5a",
   "metadata": {},
   "outputs": [],
   "source": [
    "volcano2tab = pd.merge(gepia2,venn2tab,on='SYMBOL',how='left')[['transcript','Log2FC','P-value','SYMBOL',\\\n",
    "                                       'chr','start','stop','meandiffabs','Hypo-groups','Int-groups','Hyper-groups','NFATC1-dmrs','NFKB2-dmrs']].sort_values('P-value')\n",
    "volcano2tab['P-value'] = -volcano2tab['P-value'].apply(np.log10)\n",
    "volcano2tab = volcano2tab.loc[volcano2tab['NFATC1-dmrs']|volcano2tab['NFKB2-dmrs']].sort_values(['NFATC1-dmrs','NFKB2-dmrs'])\n",
    "volcano2tab"
   ]
  },
  {
   "cell_type": "code",
   "execution_count": null,
   "id": "3f3428cc-dc68-457c-a087-36dc881e3540",
   "metadata": {},
   "outputs": [],
   "source": [
    "print(st.fisher_exact(pd.crosstab(volcano2tab['Log2FC']>0, volcano2tab['Hypo-groups'].str.contains('PDAC'))))\n",
    "pd.crosstab(volcano2tab['Log2FC']>0, volcano2tab['Hypo-groups'].str.contains('PDAC'))"
   ]
  },
  {
   "cell_type": "code",
   "execution_count": null,
   "id": "57e52b44-b59e-4fbe-895f-27b77755fa9a",
   "metadata": {},
   "outputs": [],
   "source": [
    "plt.subplots(figsize=[3,3])\n",
    "sns.scatterplot(x=gepia2['Log2FC'],y=-gepia2['P-value'].apply(np.log10), s=1,color='lightgrey')\n",
    "\n",
    "volcano2tab['shape2'] = volcano2tab['NFATC1-dmrs']*1+volcano2tab['NFKB2-dmrs']*2\n",
    "\n",
    "sns.scatterplot(x=volcano2tab['Log2FC'],\\\n",
    "                y=volcano2tab['P-value'], \n",
    "                s=10,color='grey',style=volcano2tab['shape2'],markers={1:'X',2:'P',3:'s'},legend=None)\n",
    "sns.scatterplot(x=volcano2tab.loc[volcano2tab['Log2FC']>1]['Log2FC'],\\\n",
    "                y=volcano2tab.loc[volcano2tab['Log2FC']>1]['P-value'], \n",
    "                s=10,color='red',style=volcano2tab.loc[volcano2tab['Log2FC']>1]['shape2'],markers={1:'X',2:'P',3:'s'},legend=None)\n",
    "sns.scatterplot(x=volcano2tab.loc[volcano2tab['Log2FC']<-1]['Log2FC'],\\\n",
    "                y=volcano2tab.loc[volcano2tab['Log2FC']<-1]['P-value'], \n",
    "                s=10,color='blue',style=volcano2tab.loc[volcano2tab['Log2FC']<-1]['shape2'],markers={1:'X',2:'P',3:'s'},legend=None)\n",
    "plt.xlim([-12,12])\n",
    "plt.yticks([0,50,100])"
   ]
  },
  {
   "cell_type": "code",
   "execution_count": null,
   "id": "3edcb675-a5fc-4207-a6b9-9260a7f29413",
   "metadata": {},
   "outputs": [],
   "source": [
    "met = dt.fread('./data/GSE222147_pdac.input.tsv')\n",
    "metcols = ['chr','pos']\n",
    "cpgpos = met[:, [metcols[0], metcols[1]]].to_pandas()\n",
    "cpgpos['start'] = cpgpos[metcols[1]]\n",
    "cpgpos['end'] = cpgpos[metcols[1]]+1\n",
    "cpgpos"
   ]
  },
  {
   "cell_type": "code",
   "execution_count": null,
   "id": "c0248aa4-faf7-40f4-9796-2d5398505394",
   "metadata": {},
   "outputs": [],
   "source": [
    "met_pandas = met.to_pandas()\n",
    "met_pandas"
   ]
  },
  {
   "cell_type": "code",
   "execution_count": null,
   "id": "152e21ea-e902-49bb-bde8-1476793c9813",
   "metadata": {},
   "outputs": [],
   "source": [
    "for i in ['PDAC','PanIN','Acinar','Duct']:\n",
    "    met_pandas['pos0'] = met_pandas['pos']-1\n",
    "    met_pandas['mean_'+i] = met_pandas[met_pandas.columns[met_pandas.columns.str.contains('='+i)]].T.mean()\n",
    "\n",
    "met_pandas[['chr','pos','mean_PDAC','mean_PanIN','mean_Acinar','mean_Duct']].to_csv(\\\n",
    "    './PDAC/motif/groupmean.met.csv')"
   ]
  },
  {
   "cell_type": "code",
   "execution_count": null,
   "id": "cae96d81-d55b-4bb7-903f-3d0f36e44d7b",
   "metadata": {},
   "outputs": [],
   "source": [
    "os.system('Rscript ./enrichedheatmap.r')"
   ]
  }
 ],
 "metadata": {
  "kernelspec": {
   "display_name": "Python 3 (ipykernel)",
   "language": "python",
   "name": "python3"
  },
  "language_info": {
   "codemirror_mode": {
    "name": "ipython",
    "version": 3
   },
   "file_extension": ".py",
   "mimetype": "text/x-python",
   "name": "python",
   "nbconvert_exporter": "python",
   "pygments_lexer": "ipython3",
   "version": "3.10.0"
  }
 },
 "nbformat": 4,
 "nbformat_minor": 5
}
