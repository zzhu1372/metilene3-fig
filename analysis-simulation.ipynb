{
 "cells": [
  {
   "cell_type": "code",
   "execution_count": null,
   "id": "2ffcbd7a-eb47-4996-9762-8b24e18ab053",
   "metadata": {},
   "outputs": [],
   "source": [
    "import os\n",
    "import pandas as pd\n",
    "from pybedtools import BedTool"
   ]
  },
  {
   "cell_type": "code",
   "execution_count": null,
   "id": "560dfe2a-48af-4d95-8504-21c95afb1f35",
   "metadata": {},
   "outputs": [],
   "source": [
    "def find_overlapping_regions(bed1_df, bed2_df, bed1_cols, bed2_cols):\n",
    "    bed_1 = BedTool.from_dataframe(bed1_df[bed1_cols].sort_values(bed1_cols))\n",
    "    bed_2 = BedTool.from_dataframe(bed2_df[bed2_cols].sort_values(bed2_cols))\n",
    "    return BedTool.to_dataframe(bed_1.intersect(bed_2, wa=True, wb=True))\n",
    "\n",
    "def jaccard(bed1_df, bed2_df, bed1_cols, bed2_cols):\n",
    "    bed_1 = BedTool.from_dataframe(bed1_df[bed1_cols].sort_values(bed1_cols))\n",
    "    bed_2 = BedTool.from_dataframe(bed2_df[bed2_cols].sort_values(bed2_cols))\n",
    "    return BedTool.jaccard(bed_1, bed_2)"
   ]
  },
  {
   "cell_type": "code",
   "execution_count": null,
   "id": "ff45dccf-1de4-4070-a51f-8799e1f40c6b",
   "metadata": {},
   "outputs": [],
   "source": [
    "abab = '40_3_22_22'\n",
    "ab = '403'"
   ]
  },
  {
   "cell_type": "code",
   "execution_count": null,
   "id": "a2e2806b-7301-4a18-ba75-ed78910fbfb3",
   "metadata": {},
   "outputs": [],
   "source": [
    "DMRs = pd.read_table(\"./simulation/data/\"+ab+\"/DMR_nooverlapped_beta_\"+abab+\".bed\", header=None).sort_values([1,2])\n",
    "DMRs.index = DMRs[0]+'.'+DMRs[1].astype(str)+'.'+DMRs[2].astype(str)\n",
    "DMRs[10] = DMRs[2]-DMRs[1]\n",
    "DMRs[9] = DMRs[6].apply(lambda x:'leaf' if x.find('leaf')==0 else x)\n",
    "DMRsum = DMRs.groupby([9,7]).sum()[[10]]"
   ]
  },
  {
   "cell_type": "code",
   "execution_count": null,
   "id": "22dc46d9-95d4-4477-ac96-84361e984a85",
   "metadata": {
    "scrolled": true
   },
   "outputs": [],
   "source": [
    "dmrs_metilene = pd.read_table('./simulation/data/output-'+abab+'/rep0.c10/metilene_sup/DMRs.tsv')\n",
    "\n",
    "dmrs_wgbstools = pd.DataFrame()\n",
    "for i in pd.Series(os.listdir('./simulation/data/output-'+abab+'/rep0.c10/wgbstools/'))\\\n",
    "[pd.Series(os.listdir('./simulation/data/output-'+abab+'/rep0.c10/wgbstools/')).apply(lambda x:x.split('.')[0]=='Markers')]:\n",
    "    dmrs_wgbstools = pd.concat([dmrs_wgbstools, pd.read_table('./simulation/data/output-'+abab+'/rep0.c10/wgbstools/'+i)])\n",
    "\n",
    "dmrs_smart = pd.read_table('./simulation/data/output-'+abab+'/rep0.c10/smart/DeNovoDMR/4_DMR_Methylation.txt', comment='#')"
   ]
  },
  {
   "cell_type": "code",
   "execution_count": null,
   "id": "9be1db38-1d02-4dfe-b2e3-cd6f3f02afc5",
   "metadata": {},
   "outputs": [],
   "source": [
    "dmrs_metilene.drop_duplicates(subset=['chr','start','stop']).shape[0],\\\n",
    "dmrs_wgbstools.drop_duplicates(subset=['#chr','start','end']).shape[0],\\\n",
    "dmrs_smart.drop_duplicates(subset=['Chrome','Start','End']).shape[0]"
   ]
  },
  {
   "cell_type": "code",
   "execution_count": null,
   "id": "232bb48b-b627-42d1-8d08-8fbf7e8d1733",
   "metadata": {},
   "outputs": [],
   "source": [
    "scores = {'metilene': {},'smart': {},'wgbstools': {}}\n",
    "for i in DMRsum.index:\n",
    "    dt = i[0]\n",
    "    dc = i[1]\n",
    "    scores['metilene'][(dt,dc)] = jaccard(DMRs.loc[(DMRs[9]==dt)&(DMRs[7]==dc)],dmrs_metilene,[0,1,2],'chr\tstart\tstop'.split('\\t'))['intersection']\n",
    "    scores['smart'][(dt,dc)] = jaccard(DMRs.loc[(DMRs[9]==dt)&(DMRs[7]==dc)],dmrs_smart,[0,1,2],'Chrome\tStart\tEnd'.split('\\t'))['intersection']\n",
    "    scores['wgbstools'][(dt,dc)] = jaccard(DMRs.loc[(DMRs[9]==dt)&(DMRs[7]==dc)],dmrs_wgbstools,[0,1,2],'#chr\tstart\tend'.split('\\t'))['intersection']\n",
    "\n",
    "for i in ['metilene','smart','wgbstools']:\n",
    "    DMRsum[i] = DMRsum.index.map(scores[i])/DMRsum[10]\n",
    "\n",
    "DMRsum['type'] = [i[0] for i in DMRsum.index]\n",
    "DMRsum['c'] = [1-i[1] for i in DMRsum.index]\n",
    "DMRsum['bg'] = ab"
   ]
  },
  {
   "cell_type": "code",
   "execution_count": null,
   "id": "d4f55b25-b07f-4e3e-acb7-4640c12cf780",
   "metadata": {},
   "outputs": [],
   "source": [
    "jaccard(DMRs,dmrs_metilene,[0,1,2],'chr\tstart\tstop'.split('\\t'))['intersection']/\\\n",
    "DMRsum[10].sum(),\\\n",
    "jaccard(DMRs,dmrs_metilene,[0,1,2],'chr\tstart\tstop'.split('\\t'))['intersection']/\\\n",
    "jaccard(dmrs_metilene,dmrs_metilene,'chr\tstart\tstop'.split('\\t'),'chr\tstart\tstop'.split('\\t'))['intersection']"
   ]
  },
  {
   "cell_type": "code",
   "execution_count": null,
   "id": "41ba9de4-6593-4a1a-8ec1-da3183930280",
   "metadata": {},
   "outputs": [],
   "source": [
    "jaccard(DMRs,dmrs_wgbstools,[0,1,2],'#chr\tstart\tend'.split('\\t'))['intersection']/\\\n",
    "DMRsum[10].sum(),\\\n",
    "jaccard(DMRs,dmrs_wgbstools,[0,1,2],'#chr\tstart\tend'.split('\\t'))['intersection']/\\\n",
    "jaccard(dmrs_wgbstools,dmrs_wgbstools,'#chr\tstart\tend'.split('\\t'),'#chr\tstart\tend'.split('\\t'))['intersection']"
   ]
  },
  {
   "cell_type": "code",
   "execution_count": null,
   "id": "8dce4157-5c9e-4bb8-ae9e-0ae5207917d4",
   "metadata": {},
   "outputs": [],
   "source": [
    "jaccard(DMRs,dmrs_smart,[0,1,2],'Chrome\tStart\tEnd'.split('\\t'))['intersection']/\\\n",
    "DMRsum[10].sum(),\\\n",
    "jaccard(DMRs,dmrs_smart,[0,1,2],'Chrome\tStart\tEnd'.split('\\t'))['intersection']/\\\n",
    "jaccard(dmrs_smart,dmrs_smart,'Chrome\tStart\tEnd'.split('\\t'),'Chrome\tStart\tEnd'.split('\\t'))['intersection']"
   ]
  },
  {
   "cell_type": "code",
   "execution_count": null,
   "id": "4dee8094-6603-4b00-a2af-d1d7f18d5064",
   "metadata": {},
   "outputs": [],
   "source": [
    "abab = '15_5_10_10'\n",
    "ab = '155'"
   ]
  },
  {
   "cell_type": "code",
   "execution_count": null,
   "id": "49502893-2611-466e-b8d1-887543371fef",
   "metadata": {},
   "outputs": [],
   "source": [
    "DMRlows = pd.read_table(\"./simulation/data/\"+ab+\"/DMR_nooverlapped_beta_\"+abab+\".bed\", header=None).sort_values([1,2])\n",
    "DMRlows.index = DMRlows[0]+'.'+DMRlows[1].astype(str)+'.'+DMRlows[2].astype(str)\n",
    "DMRlows[10] = DMRlows[2]-DMRlows[1]\n",
    "DMRlows[9] = DMRlows[6].apply(lambda x:'leaf' if x.find('leaf')==0 else x)\n",
    "DMRlowsum = DMRlows.groupby([9,7]).sum()[[10]]"
   ]
  },
  {
   "cell_type": "code",
   "execution_count": null,
   "id": "009a4d5e-40c4-4c5f-8bc3-b5e24387d63d",
   "metadata": {
    "scrolled": true
   },
   "outputs": [],
   "source": [
    "dmrlows_metilene = pd.read_table('./simulation/data/output-'+abab+'/rep0.c10/metilene_sup/DMRs.tsv')\n",
    "\n",
    "dmrlows_wgbstools = pd.DataFrame()\n",
    "for i in pd.Series(os.listdir('./simulation/data/output-'+abab+'/rep0.c10/wgbstools/'))\\\n",
    "[pd.Series(os.listdir('./simulation/data/output-'+abab+'/rep0.c10/wgbstools/')).apply(lambda x:x.split('.')[0]=='Markers')]:\n",
    "    dmrlows_wgbstools = pd.concat([dmrlows_wgbstools, pd.read_table('./simulation/data/output-'+abab+'/rep0.c10/wgbstools/'+i)])\n",
    "\n",
    "dmrlows_smart = pd.read_table('./simulation/data/output-'+abab+'/rep0.c10/smart/DeNovoDMR/4_DMR_Methylation.txt', comment='#')"
   ]
  },
  {
   "cell_type": "code",
   "execution_count": null,
   "id": "063a8527-1a94-4fb3-82d5-f2890878a125",
   "metadata": {},
   "outputs": [],
   "source": [
    "dmrlows_metilene.drop_duplicates(subset=['chr','start','stop']).shape[0],\\\n",
    "dmrlows_wgbstools.drop_duplicates(subset=['#chr','start','end']).shape[0],\\\n",
    "dmrlows_smart.drop_duplicates(subset=['Chrome','Start','End']).shape[0]"
   ]
  },
  {
   "cell_type": "code",
   "execution_count": null,
   "id": "b9c8a361-a7c8-4d78-ac5c-43f93ad64b06",
   "metadata": {},
   "outputs": [],
   "source": [
    "scores = {'metilene': {},'smart': {},'wgbstools': {}}\n",
    "for i in DMRlowsum.index:\n",
    "    dt = i[0]\n",
    "    dc = i[1]\n",
    "    scores['metilene'][(dt,dc)] = jaccard(DMRlows.loc[(DMRlows[9]==dt)&(DMRlows[7]==dc)],dmrlows_metilene,[0,1,2],'chr\tstart\tstop'.split('\\t'))['intersection']\n",
    "    scores['smart'][(dt,dc)] = jaccard(DMRlows.loc[(DMRlows[9]==dt)&(DMRlows[7]==dc)],dmrlows_smart,[0,1,2],'Chrome\tStart\tEnd'.split('\\t'))['intersection']\n",
    "    scores['wgbstools'][(dt,dc)] = jaccard(DMRlows.loc[(DMRlows[9]==dt)&(DMRlows[7]==dc)],dmrlows_wgbstools,[0,1,2],'#chr\tstart\tend'.split('\\t'))['intersection']\n",
    "\n",
    "for i in ['metilene','smart','wgbstools']:\n",
    "    DMRlowsum[i] = DMRlowsum.index.map(scores[i])/DMRlowsum[10]\n",
    "\n",
    "DMRlowsum['type'] = [i[0] for i in DMRlowsum.index]\n",
    "DMRlowsum['c'] = [1-i[1] for i in DMRlowsum.index]\n",
    "DMRlowsum['bg'] = ab"
   ]
  },
  {
   "cell_type": "code",
   "execution_count": null,
   "id": "8818287a-593c-44e1-b88c-73fb51750524",
   "metadata": {},
   "outputs": [],
   "source": [
    "jaccard(DMRlows,dmrlows_metilene,[0,1,2],'chr\tstart\tstop'.split('\\t'))['intersection']/\\\n",
    "DMRlowsum[10].sum(),\\\n",
    "jaccard(DMRlows,dmrlows_metilene,[0,1,2],'chr\tstart\tstop'.split('\\t'))['intersection']/\\\n",
    "jaccard(dmrlows_metilene,dmrlows_metilene,'chr\tstart\tstop'.split('\\t'),'chr\tstart\tstop'.split('\\t'))['intersection']"
   ]
  },
  {
   "cell_type": "code",
   "execution_count": null,
   "id": "adf4659d-2924-4fea-9512-8f5b354e4841",
   "metadata": {},
   "outputs": [],
   "source": [
    "jaccard(DMRlows,dmrlows_wgbstools,[0,1,2],'#chr\tstart\tend'.split('\\t'))['intersection']/\\\n",
    "DMRlowsum[10].sum(),\\\n",
    "jaccard(DMRlows,dmrlows_wgbstools,[0,1,2],'#chr\tstart\tend'.split('\\t'))['intersection']/\\\n",
    "jaccard(dmrlows_wgbstools,dmrlows_wgbstools,'#chr\tstart\tend'.split('\\t'),'#chr\tstart\tend'.split('\\t'))['intersection']"
   ]
  },
  {
   "cell_type": "code",
   "execution_count": null,
   "id": "94eaa5ff-49bd-4840-a6d8-dbf903fb4da2",
   "metadata": {},
   "outputs": [],
   "source": [
    "jaccard(DMRlows,dmrlows_smart,[0,1,2],'Chrome\tStart\tEnd'.split('\\t'))['intersection']/\\\n",
    "DMRlowsum[10].sum(),\\\n",
    "jaccard(DMRlows,dmrlows_smart,[0,1,2],'Chrome\tStart\tEnd'.split('\\t'))['intersection']/\\\n",
    "jaccard(dmrlows_smart,dmrlows_smart,'Chrome\tStart\tEnd'.split('\\t'),'Chrome\tStart\tEnd'.split('\\t'))['intersection']"
   ]
  },
  {
   "cell_type": "code",
   "execution_count": null,
   "id": "01a83e02-b6a5-40ed-85e1-bf45750ae88e",
   "metadata": {},
   "outputs": [],
   "source": [
    "import seaborn as sns\n",
    "import matplotlib.pyplot as plt\n",
    "\n",
    "DMRall = pd.concat([DMRlowsum,DMRsum])\n",
    "style = {'403':'-', '155':'--'}\n",
    "color = {'metilene':'#009444', \n",
    "         'wgbstools':'#939598',\n",
    "         'smart':'#a97c50',}\n",
    "\n",
    "f,ax = plt.subplots(1,5,figsize=[10,2])\n",
    "for ii,i in enumerate(['0|others','0,1,2|3,4','0,1|2','3|4','leaf']):    \n",
    "    \n",
    "    for j in ['metilene','smart','wgbstools']:\n",
    "        for k in DMRall['bg'].unique():\n",
    "            sns.lineplot(data=DMRall.loc[(DMRall['type']==i)&(DMRall['bg']==k)],\\\n",
    "                         x='c',y=j,color=color[j],linestyle=style[k],ax=ax[ii])\n",
    "    if ii>0 and ii!=3:\n",
    "        ax[ii].set_ylim([-0.1,1.1])\n",
    "        ax[ii].set_yticks([])\n",
    "        ax[ii].set_xticks(DMRsum['c'].unique())\n",
    "        ax[ii].set_title(i)\n",
    "        ax[ii].set_ylabel(None)\n",
    "        ax[ii].spines['top'].set_visible(False)\n",
    "        ax[ii].spines['left'].set_visible(False)\n",
    "        ax[ii].spines['right'].set_visible(False)\n",
    "    else:\n",
    "        ax[ii].set_ylim([-0.1,1.1])\n",
    "        ax[ii].set_yticks([0,0.5,1])\n",
    "        ax[ii].set_xticks(DMRsum['c'].unique())\n",
    "        ax[ii].set_title(i)\n",
    "        ax[ii].set_ylabel(None)\n",
    "        ax[ii].spines['top'].set_visible(False)\n",
    "        # ax[ii].spines['left'].set_visible(False)\n",
    "        ax[ii].spines['right'].set_visible(False)"
   ]
  }
 ],
 "metadata": {
  "kernelspec": {
   "display_name": "Python 3 (ipykernel)",
   "language": "python",
   "name": "python3"
  },
  "language_info": {
   "codemirror_mode": {
    "name": "ipython",
    "version": 3
   },
   "file_extension": ".py",
   "mimetype": "text/x-python",
   "name": "python",
   "nbconvert_exporter": "python",
   "pygments_lexer": "ipython3",
   "version": "3.10.0"
  }
 },
 "nbformat": 4,
 "nbformat_minor": 5
}
